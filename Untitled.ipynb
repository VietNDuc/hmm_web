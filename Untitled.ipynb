{
 "cells": [
  {
   "cell_type": "code",
   "execution_count": 1,
   "metadata": {},
   "outputs": [],
   "source": [
    "import os\n",
    "import csv\n",
    "import re\n",
    "import numpy as np\n",
    "import pandas as pd\n",
    "\n",
    "from hmm import HMM_Pos"
   ]
  },
  {
   "cell_type": "code",
   "execution_count": 2,
   "metadata": {},
   "outputs": [],
   "source": [
    "dataPath = 'dataset/'"
   ]
  },
  {
   "cell_type": "code",
   "execution_count": 3,
   "metadata": {},
   "outputs": [],
   "source": [
    "model = HMM_Pos()\n",
    "model.train(dataPath)"
   ]
  },
  {
   "cell_type": "code",
   "execution_count": 6,
   "metadata": {},
   "outputs": [
    {
     "data": {
      "text/plain": [
       "['i (/FW)', 'am (/VBP)', 'viet (/NNP)']"
      ]
     },
     "execution_count": 6,
     "metadata": {},
     "output_type": "execute_result"
    }
   ],
   "source": [
    "rs = model.getTag('i am viet')\n",
    "rs"
   ]
  },
  {
   "cell_type": "code",
   "execution_count": 8,
   "metadata": {},
   "outputs": [
    {
     "data": {
      "text/plain": [
       "'i (/FW) am (/VBP) viet (/NNP)'"
      ]
     },
     "execution_count": 8,
     "metadata": {},
     "output_type": "execute_result"
    }
   ],
   "source": [
    "' '.join(rs)"
   ]
  },
  {
   "cell_type": "code",
   "execution_count": 3,
   "metadata": {},
   "outputs": [],
   "source": [
    "threshold = 1\n",
    "suflen = 2\n",
    "Pemit = {}     # { Pos : { word : Pemit }}\n",
    "Words = {}     # { word : { Pos : count} ) }\n",
    "PosSize = 0 \n",
    "suffix = {}"
   ]
  },
  {
   "cell_type": "code",
   "execution_count": 4,
   "metadata": {},
   "outputs": [],
   "source": [
    "morphCatNum = 16\n",
    "openClass = set([':','CD','FW','IN','JJ','JJR','JJS','NN',\\\n",
    "                 'NNP','NNPS','NNS','RB','RBR','RBS','UH',\\\n",
    "                 'VB','VBD','VBG','VBN','VBP','VBZ','SYM'])"
   ]
  },
  {
   "cell_type": "markdown",
   "metadata": {},
   "source": [
    "### Function to determine morphological feat"
   ]
  },
  {
   "cell_type": "code",
   "execution_count": 5,
   "metadata": {},
   "outputs": [],
   "source": [
    "def morphCat(word):\n",
    "    # Words\n",
    "    if re.match('\\A[a-zA-Z]+\\Z', word):\n",
    "        # lower case\n",
    "        if re.match('\\A[a-z]+\\Z', word):\n",
    "            return 0\n",
    "        # cap word\n",
    "        elif re.match('\\A[A-Z][a-z]*\\Z', word):\n",
    "            return 1\n",
    "        # all cap\n",
    "        elif re.match('\\A[A-Z]+\\Z', word):\n",
    "            return 2\n",
    "        else:\n",
    "            return 3\n",
    "    # hyphen\n",
    "    elif '-' in word:\n",
    "        # Cap-Cap\n",
    "        if re.match('\\A[A-Z][^-]*-[A-Z].*\\Z', word):\n",
    "            return 4\n",
    "        # digit-seq\n",
    "        elif re.match('\\A\\d{1,3}(,?\\d{3})*(.\\d*)?-.*\\Z', word):\n",
    "            return 5\n",
    "        # seq-digit\n",
    "        elif re.match('\\A\\D+-\\d+\\Z', word):\n",
    "            return 6\n",
    "        # lower seq - cap seq\n",
    "        elif re.match('\\A[a-z]+-[A-Z].*\\Z', word):\n",
    "            return 7\n",
    "        # cap seq - lower seq\n",
    "        elif re.match('\\A[A-Z]+-[a-z].*\\Z', word):\n",
    "            return 15\n",
    "        # include '-'\n",
    "        elif word.count('-') > 1:\n",
    "            return 8\n",
    "        else:\n",
    "            return  9\n",
    "    # digits\n",
    "    elif re.search('\\d', word):\n",
    "        # \n",
    "        if re.match('\\A[+-]?\\d{1,3}(,?\\d{3})*(.\\d*)?\\Z', word):\n",
    "            return 10\n",
    "        else:\n",
    "            return 11\n",
    "    elif '\\/' in word: \n",
    "        return 12\n",
    "    elif '.' in word:\n",
    "        return 13\n",
    "    else:\n",
    "        return 14"
   ]
  },
  {
   "cell_type": "markdown",
   "metadata": {},
   "source": [
    "### Create Pos->words & Words->Pos"
   ]
  },
  {
   "cell_type": "code",
   "execution_count": 6,
   "metadata": {},
   "outputs": [],
   "source": [
    "try:\n",
    "    ftrain = open(dataPath+'WSJ_02-21.pos', 'r')\n",
    "except:\n",
    "    print(\"Invalid path\")\n",
    "    eixt()\n",
    "\n",
    "Ptrans = {'START':{}}  #{ (Pos, Pos): {Pos : count}}\n",
    "PosPre = 'START' # state t-1\n",
    "PosPP = ''  # state t-2\n",
    "\n",
    "for line in csv.reader(ftrain,delimiter='\\t'):\n",
    "    if len(line) == 0:\n",
    "        Pos = 'END'\n",
    "        Ptrans[(PosPP,PosPre)][Pos] = Ptrans.setdefault((PosPP,PosPre), {Pos: 1}).get(Pos, 0) + 1\n",
    "        PosPre = 'START'\n",
    "        continue\n",
    "\n",
    "    word, Pos = line[0], line[1]\n",
    "\n",
    "    # word POS\n",
    "    Words[word][Pos] = Words.setdefault(word, {Pos: 1}).get(Pos, 0) + 1\n",
    "\n",
    "    # emission count\n",
    "    Pemit[Pos][word] = Pemit.setdefault(Pos, {word: 1}).get(word, 0) + 1\n",
    "\n",
    "    # transition count\n",
    "    if PosPre == 'START':\n",
    "        Ptrans['START'][Pos] = Ptrans['START'].get(Pos, 0) + 1\n",
    "    else:\n",
    "        Ptrans[(PosPP,PosPre)][Pos] = Ptrans.setdefault((PosPP,PosPre), {Pos: 1}).get(Pos, 0) + 1\n",
    "\n",
    "    PosPP = PosPre\n",
    "    PosPre = Pos \n",
    "ftrain.close()"
   ]
  },
  {
   "cell_type": "code",
   "execution_count": 38,
   "metadata": {},
   "outputs": [],
   "source": [
    "PosSize = len(Pemit)\n",
    "label = {Pos:enum for enum, Pos in enumerate(Pemit)}\n",
    "tmp = [(label[Pos],Pos) for Pos in label]\n",
    "tmp.sort()\n",
    "tag = [t[1] for t in tmp]\n",
    "tag.append('START')\n",
    "label.update({'END':PosSize,'START':PosSize})"
   ]
  },
  {
   "cell_type": "markdown",
   "metadata": {},
   "source": [
    "### Suffix model"
   ]
  },
  {
   "cell_type": "code",
   "execution_count": 8,
   "metadata": {},
   "outputs": [],
   "source": [
    "suffix = {}\n",
    "for word in Words:\n",
    "    numsuf = suflen if len(word) >= suflen else len(word)\n",
    "    sufl = [word[-i:] for i in range (1, numsuf+1)]\n",
    "    # ['n', 'In']\n",
    "    # ['n', 'an']\n",
    "    # ['.', 't.']\n",
    "    for suf in sufl:\n",
    "        if suf not in suffix:\n",
    "            suffix[suf] = np.zeros(PosSize + 1)\n",
    "        for Pos in Words[word].keys():\n",
    "            suffix[suf][label[Pos]] += 1 #self.Words[word][Pos]\n",
    "\n",
    "for suf in list(suffix):\n",
    "    total = np.sum(suffix[suf])\n",
    "    if total >= 5:\n",
    "        suffix[suf] += 1\n",
    "        suffix[suf] *= 1./np.sum(suffix[suf])\n",
    "    else:\n",
    "        suffix.pop(suf)"
   ]
  },
  {
   "cell_type": "markdown",
   "metadata": {},
   "source": [
    "### Morpohlogical model"
   ]
  },
  {
   "cell_type": "code",
   "execution_count": 9,
   "metadata": {},
   "outputs": [],
   "source": [
    "morph = np.zeros([morphCatNum, PosSize+1])\n",
    "\n",
    "for word in Words:\n",
    "    cat = morphCat(word)\n",
    "    for Pos in Words[word].keys():\n",
    "        if cat > 1:\n",
    "            morph[cat, label[Pos]] += 1\n",
    "        else:\n",
    "            if Words[word][Pos] <= threshold:\n",
    "                morph[cat, label[Pos]] += 1\n",
    "\n",
    "morph += 1\n",
    "morph = 1. / np.sum(morph, axis=1)"
   ]
  },
  {
   "cell_type": "markdown",
   "metadata": {},
   "source": [
    "### Transition matrix"
   ]
  },
  {
   "cell_type": "code",
   "execution_count": 11,
   "metadata": {},
   "outputs": [],
   "source": [
    "TransMat = np.zeros([PosSize+1, PosSize+1, PosSize+1])\n",
    "\n",
    "for PosPre in Ptrans:\n",
    "    if PosPre == 'START':\n",
    "        i = label['START']\n",
    "        j = i\n",
    "    else:\n",
    "        i = label[PosPre[0]]\n",
    "        j = label[PosPre[1]]\n",
    "    for Pos in Ptrans[PosPre]:\n",
    "        TransMat[i, j, label[Pos]] = Ptrans[PosPre][Pos]\n",
    "\n",
    "TransMat2 = np.sum(TransMat, axis=0)\n",
    "TransMat += 1\n",
    "TransMat = TransMat * 1. / np.sum(TransMat, axis=2, keepdims=True)"
   ]
  },
  {
   "cell_type": "code",
   "execution_count": 12,
   "metadata": {},
   "outputs": [],
   "source": [
    "TransMat2 *= 1. / np.sum(TransMat2, axis=1, keepdims=True)\n",
    "TransMat2 = TransMat2 * np.ones([PosSize + 1, PosSize + 1, PosSize + 1])"
   ]
  },
  {
   "cell_type": "markdown",
   "metadata": {},
   "source": [
    "### Emission matrix"
   ]
  },
  {
   "cell_type": "code",
   "execution_count": 14,
   "metadata": {},
   "outputs": [],
   "source": [
    "unk = np.zeros(PosSize+1)\n",
    "\n",
    "for Pos in Pemit:\n",
    "    vec = np.array(list(Pemit[Pos].values()))\n",
    "    total = np.sum(vec)\n",
    "    if Pos in openClass:\n",
    "        unk[label[Pos]] = np.sum(vec <= threshold) * 1. / total\n",
    "    for word in Pemit[Pos]:\n",
    "        Pemit[Pos][word] *= 1. / total\n",
    "\n",
    "unk *= 1. / np.sum(unk)"
   ]
  },
  {
   "cell_type": "markdown",
   "metadata": {},
   "source": [
    "### Lambda params for Viterbi"
   ]
  },
  {
   "cell_type": "code",
   "execution_count": 15,
   "metadata": {},
   "outputs": [],
   "source": [
    "isg = TransMat[1:,:-1] >= TransMat2[1:,:-1]\n",
    "lambd3 = np.sum(TransMat[1:,:-1][isg])\n",
    "lambd2 = np.sum(TransMat2[1:,:-1][isg != True])\n",
    "total = lambd2 + lambd3\n",
    "lambd3 /= total\n",
    "lambd2 /= total"
   ]
  },
  {
   "cell_type": "markdown",
   "metadata": {},
   "source": [
    "### Calculate emission value for unknown word based on suffix and morph matrix"
   ]
  },
  {
   "cell_type": "code",
   "execution_count": 32,
   "metadata": {},
   "outputs": [],
   "source": [
    "def get_emission_unk_word(word):\n",
    "    \"\"\"\n",
    "    \"\"\"\n",
    "    ret = []\n",
    "    if word in Words:\n",
    "        for Pos in Words[word].keys():\n",
    "            ret.append((Pos, Pemit[Pos][word]))\n",
    "    else:\n",
    "        cat = morphCat(word)\n",
    "        flag = 0\n",
    "        numsuf = suflen if len(word) >= suflen else len(word)\n",
    "        sufl = [word[-i:] for i in range(numsuf, 0, -1)]\n",
    "        for suf in sufl:\n",
    "            if suf in suffix:\n",
    "                ret = [(Pos, emit) for (Pos, emit) in zip(tag, unk*suffix[suf]*morph[cat])]\n",
    "                flag = 1\n",
    "                break\n",
    "        if flag == 0:\n",
    "            ret = [(Pos, emit) for (Pos, emit) in zip(tag, unk*morph[cat])]\n",
    "\n",
    "        if cat < 4:\n",
    "            if word.lower() in Words:\n",
    "                total = sum(Words[word.lower()].values())\n",
    "                for Pos in Words[word.lower()]:\n",
    "                    ret[label[Pos]] = (Pos, ret[label[Pos]][1] + Words[word.lower()][Pos] * 1. / total)\n",
    "\n",
    "    return ret"
   ]
  },
  {
   "cell_type": "markdown",
   "metadata": {},
   "source": [
    "### Viterbi"
   ]
  },
  {
   "cell_type": "code",
   "execution_count": 289,
   "metadata": {},
   "outputs": [],
   "source": [
    "def Viterbi(sentence):\n",
    "    \"\"\"Viterbi algorithm\n",
    "    \"\"\"\n",
    "    regex = r'[A-Z]{2,}(?![a-z])|[A-Z][a-z]+(?=[A-Z])|[\\'\\w\\-]+|[,.?]'\n",
    "    phrase = re.findall(regex, sentence)\n",
    "\n",
    "    T = len(phrase)\n",
    "    Vtb = np.zeros([T + 2, PosSize + 1, PosSize + 1])\n",
    "    Trace = np.ones([T + 2, PosSize + 1, PosSize + 1]) * -1\n",
    "    Vtb[0, label['START'], :] += 1\n",
    "    ret = []\n",
    "    \n",
    "    # Recursive\n",
    "    for i in range(1, T+1):suflen\n",
    "        word = phrase[i-1]\n",
    "        PosSet = get_emission_unk_word(word)\n",
    "        for Pos, emit in PosSet:\n",
    "            tmp = Vtb[i-1] * (lambd3 * TransMat[:, :, label[Pos]] + lambd2 * TransMat2[: , :, label[Pos]])\n",
    "            Vtb[i, :, label[Pos]] = np.max(tmp, axis=0) * emit *100\n",
    "            Trace[i, :, label[Pos]] = np.argmax(tmp, axis=0)\n",
    "    \n",
    "    # END\n",
    "    i = T+1\n",
    "    Pos = 'END'\n",
    "    tmp = Vtb[i-1] * (lambd3 * TransMat[:, :, label[Pos]] + lambd2 * TransMat2[:, :, label[Pos]]) \n",
    "    Vtb[i, :, label[Pos]] = np.max(tmp,axis = 0)\n",
    "    Trace[i, :, label[Pos]] = np.argmax(tmp,axis=0)\n",
    "    ToPos = label['END']\n",
    "    FromPos = int(np.argmax(Vtb[i, :, ToPos]))\n",
    "    PrePos = int(Trace[i, FromPos, ToPos])\n",
    "    for i in range (T, 0, -1):\n",
    "        ret.append(tag[FromPos])\n",
    "        ToPos = FromPos\n",
    "        FromPos = PrePos\n",
    "        PrePos = int(Trace[i, FromPos, ToPos])\n",
    "    ret.reverse()\n",
    "    \n",
    "    return {p: r for (p, r) in zip(phrase, ret)}"
   ]
  },
  {
   "cell_type": "code",
   "execution_count": 290,
   "metadata": {},
   "outputs": [
    {
     "data": {
      "text/plain": [
       "{'i': 'FW',\n",
       " 'am': 'VBP',\n",
       " 'viet': 'NN',\n",
       " ',': ',',\n",
       " \"i'm\": 'NNP',\n",
       " 'too': 'RB',\n",
       " 'handsome': 'JJ'}"
      ]
     },
     "execution_count": 290,
     "metadata": {},
     "output_type": "execute_result"
    }
   ],
   "source": [
    "phrase = \"i am viet, i'm too handsome\"\n",
    "Viterbi(phrase)"
   ]
  },
  {
   "cell_type": "code",
   "execution_count": 52,
   "metadata": {},
   "outputs": [],
   "source": [
    "fin = open(dataPath + 'WSJ_24.words', 'r')\n",
    "fout = open(dataPath + \"result.pos\", 'w')\n",
    "word = fin.readline()\n",
    "snt = []\n",
    "while word != '':\n",
    "    word = word.strip('\\n')\n",
    "    if word != '':\n",
    "        snt.append(word)\n",
    "    else:\n",
    "        map(fout.write, [\"%s\\t%s\\n\"%(x, y) for (x, y) in zip(snt, Viterbi(snt))])\n",
    "        snt = []\n",
    "        fout.write(\"\\n\")\n",
    "    word = fin.readline()\n",
    "fin.close()\n",
    "fout.close()"
   ]
  },
  {
   "cell_type": "code",
   "execution_count": 58,
   "metadata": {},
   "outputs": [],
   "source": [
    "test = pd.read_csv(os.path.join(dataPath, 'WSJ_24.pos'), delimiter='\\t', header=None, names=['Token', 'Tag'])"
   ]
  },
  {
   "cell_type": "code",
   "execution_count": 176,
   "metadata": {},
   "outputs": [],
   "source": [
    "test['Pred'] = test['Token'].map(lambda x: Viterbi([x])[0])"
   ]
  },
  {
   "cell_type": "code",
   "execution_count": 177,
   "metadata": {},
   "outputs": [
    {
     "data": {
      "text/html": [
       "<div>\n",
       "<style scoped>\n",
       "    .dataframe tbody tr th:only-of-type {\n",
       "        vertical-align: middle;\n",
       "    }\n",
       "\n",
       "    .dataframe tbody tr th {\n",
       "        vertical-align: top;\n",
       "    }\n",
       "\n",
       "    .dataframe thead th {\n",
       "        text-align: right;\n",
       "    }\n",
       "</style>\n",
       "<table border=\"1\" class=\"dataframe\">\n",
       "  <thead>\n",
       "    <tr style=\"text-align: right;\">\n",
       "      <th></th>\n",
       "      <th>Token</th>\n",
       "      <th>Tag</th>\n",
       "      <th>Pred</th>\n",
       "    </tr>\n",
       "  </thead>\n",
       "  <tbody>\n",
       "    <tr>\n",
       "      <th>0</th>\n",
       "      <td>The</td>\n",
       "      <td>DT</td>\n",
       "      <td>DT</td>\n",
       "    </tr>\n",
       "    <tr>\n",
       "      <th>1</th>\n",
       "      <td>economy</td>\n",
       "      <td>NN</td>\n",
       "      <td>NN</td>\n",
       "    </tr>\n",
       "    <tr>\n",
       "      <th>2</th>\n",
       "      <td>'s</td>\n",
       "      <td>POS</td>\n",
       "      <td>POS</td>\n",
       "    </tr>\n",
       "    <tr>\n",
       "      <th>3</th>\n",
       "      <td>temperature</td>\n",
       "      <td>NN</td>\n",
       "      <td>NN</td>\n",
       "    </tr>\n",
       "    <tr>\n",
       "      <th>4</th>\n",
       "      <td>will</td>\n",
       "      <td>MD</td>\n",
       "      <td>MD</td>\n",
       "    </tr>\n",
       "    <tr>\n",
       "      <th>...</th>\n",
       "      <td>...</td>\n",
       "      <td>...</td>\n",
       "      <td>...</td>\n",
       "    </tr>\n",
       "    <tr>\n",
       "      <th>32848</th>\n",
       "      <td>them</td>\n",
       "      <td>PRP</td>\n",
       "      <td>PRP</td>\n",
       "    </tr>\n",
       "    <tr>\n",
       "      <th>32849</th>\n",
       "      <td>here</td>\n",
       "      <td>RB</td>\n",
       "      <td>RB</td>\n",
       "    </tr>\n",
       "    <tr>\n",
       "      <th>32850</th>\n",
       "      <td>with</td>\n",
       "      <td>IN</td>\n",
       "      <td>IN</td>\n",
       "    </tr>\n",
       "    <tr>\n",
       "      <th>32851</th>\n",
       "      <td>us</td>\n",
       "      <td>PRP</td>\n",
       "      <td>PRP</td>\n",
       "    </tr>\n",
       "    <tr>\n",
       "      <th>32852</th>\n",
       "      <td>.</td>\n",
       "      <td>.</td>\n",
       "      <td>.</td>\n",
       "    </tr>\n",
       "  </tbody>\n",
       "</table>\n",
       "<p>32853 rows × 3 columns</p>\n",
       "</div>"
      ],
      "text/plain": [
       "             Token  Tag Pred\n",
       "0              The   DT   DT\n",
       "1          economy   NN   NN\n",
       "2               's  POS  POS\n",
       "3      temperature   NN   NN\n",
       "4             will   MD   MD\n",
       "...            ...  ...  ...\n",
       "32848         them  PRP  PRP\n",
       "32849         here   RB   RB\n",
       "32850         with   IN   IN\n",
       "32851           us  PRP  PRP\n",
       "32852            .    .    .\n",
       "\n",
       "[32853 rows x 3 columns]"
      ]
     },
     "execution_count": 177,
     "metadata": {},
     "output_type": "execute_result"
    }
   ],
   "source": [
    "test"
   ]
  },
  {
   "cell_type": "code",
   "execution_count": 187,
   "metadata": {},
   "outputs": [
    {
     "data": {
      "text/html": [
       "<div>\n",
       "<style scoped>\n",
       "    .dataframe tbody tr th:only-of-type {\n",
       "        vertical-align: middle;\n",
       "    }\n",
       "\n",
       "    .dataframe tbody tr th {\n",
       "        vertical-align: top;\n",
       "    }\n",
       "\n",
       "    .dataframe thead th {\n",
       "        text-align: right;\n",
       "    }\n",
       "</style>\n",
       "<table border=\"1\" class=\"dataframe\">\n",
       "  <thead>\n",
       "    <tr style=\"text-align: right;\">\n",
       "      <th></th>\n",
       "      <th>Token</th>\n",
       "      <th>Tag</th>\n",
       "      <th>Pred</th>\n",
       "    </tr>\n",
       "  </thead>\n",
       "  <tbody>\n",
       "    <tr>\n",
       "      <th>37</th>\n",
       "      <td>out</td>\n",
       "      <td>IN</td>\n",
       "      <td>RP</td>\n",
       "    </tr>\n",
       "    <tr>\n",
       "      <th>48</th>\n",
       "      <td>about</td>\n",
       "      <td>IN</td>\n",
       "      <td>RB</td>\n",
       "    </tr>\n",
       "    <tr>\n",
       "      <th>88</th>\n",
       "      <td>rise</td>\n",
       "      <td>VB</td>\n",
       "      <td>NN</td>\n",
       "    </tr>\n",
       "    <tr>\n",
       "      <th>92</th>\n",
       "      <td>as</td>\n",
       "      <td>RB</td>\n",
       "      <td>IN</td>\n",
       "    </tr>\n",
       "    <tr>\n",
       "      <th>99</th>\n",
       "      <td>reported</td>\n",
       "      <td>VBN</td>\n",
       "      <td>VBD</td>\n",
       "    </tr>\n",
       "    <tr>\n",
       "      <th>...</th>\n",
       "      <td>...</td>\n",
       "      <td>...</td>\n",
       "      <td>...</td>\n",
       "    </tr>\n",
       "    <tr>\n",
       "      <th>32795</th>\n",
       "      <td>emphasize</td>\n",
       "      <td>VBP</td>\n",
       "      <td>VB</td>\n",
       "    </tr>\n",
       "    <tr>\n",
       "      <th>32800</th>\n",
       "      <td>that</td>\n",
       "      <td>IN</td>\n",
       "      <td>WDT</td>\n",
       "    </tr>\n",
       "    <tr>\n",
       "      <th>32827</th>\n",
       "      <td>see</td>\n",
       "      <td>VB</td>\n",
       "      <td>VBP</td>\n",
       "    </tr>\n",
       "    <tr>\n",
       "      <th>32834</th>\n",
       "      <td>out</td>\n",
       "      <td>IN</td>\n",
       "      <td>RP</td>\n",
       "    </tr>\n",
       "    <tr>\n",
       "      <th>32847</th>\n",
       "      <td>see</td>\n",
       "      <td>VB</td>\n",
       "      <td>VBP</td>\n",
       "    </tr>\n",
       "  </tbody>\n",
       "</table>\n",
       "<p>2895 rows × 3 columns</p>\n",
       "</div>"
      ],
      "text/plain": [
       "           Token  Tag Pred\n",
       "37           out   IN   RP\n",
       "48         about   IN   RB\n",
       "88          rise   VB   NN\n",
       "92            as   RB   IN\n",
       "99      reported  VBN  VBD\n",
       "...          ...  ...  ...\n",
       "32795  emphasize  VBP   VB\n",
       "32800       that   IN  WDT\n",
       "32827        see   VB  VBP\n",
       "32834        out   IN   RP\n",
       "32847        see   VB  VBP\n",
       "\n",
       "[2895 rows x 3 columns]"
      ]
     },
     "execution_count": 187,
     "metadata": {},
     "output_type": "execute_result"
    }
   ],
   "source": [
    "test.loc[test['Tag'] != test['Pred']]"
   ]
  },
  {
   "cell_type": "code",
   "execution_count": 84,
   "metadata": {},
   "outputs": [
    {
     "data": {
      "text/plain": [
       "0.9118801935896265"
      ]
     },
     "execution_count": 84,
     "metadata": {},
     "output_type": "execute_result"
    }
   ],
   "source": [
    "np.sum(test['Tag'] == test['Pred']) / len(test['Tag'])"
   ]
  },
  {
   "cell_type": "code",
   "execution_count": null,
   "metadata": {},
   "outputs": [],
   "source": []
  }
 ],
 "metadata": {
  "kernelspec": {
   "display_name": "Python 3",
   "language": "python",
   "name": "python3"
  },
  "language_info": {
   "codemirror_mode": {
    "name": "ipython",
    "version": 3
   },
   "file_extension": ".py",
   "mimetype": "text/x-python",
   "name": "python",
   "nbconvert_exporter": "python",
   "pygments_lexer": "ipython3",
   "version": "3.7.7"
  }
 },
 "nbformat": 4,
 "nbformat_minor": 4
}
